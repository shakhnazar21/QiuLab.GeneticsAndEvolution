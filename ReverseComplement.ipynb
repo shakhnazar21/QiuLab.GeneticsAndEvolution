{
  "nbformat": 4,
  "nbformat_minor": 0,
  "metadata": {
    "colab": {
      "provenance": []
    },
    "kernelspec": {
      "name": "python3",
      "display_name": "Python 3"
    },
    "language_info": {
      "name": "python"
    }
  },
  "cells": [
    {
      "cell_type": "markdown",
      "source": [
        "Write a program that inputs a DNA sequence and outputs the reverse of that DNA sequence,\n",
        "\n",
        "Write a program that inputs a DNA sequence and outputs the complement of that DNA sequence.  Two create the complement sequence swap nucleotides,\n",
        "\n",
        "Use the two programs above to create a program which inputs a DNA sequence and returns the reverse complement  of  the sequence,\n",
        "\n",
        "Write a program which inputs a DNA sequence and returns the same DNA sequence except that all T’s have been changed to U.\n"
      ],
      "metadata": {
        "id": "KgWZiNfmudZ1"
      }
    },
    {
      "cell_type": "code",
      "source": [
        "def reverser(seq):\n",
        "  reverseSeq = seq[::-1]\n",
        "  reversed = []\n",
        "  reversed.append(reverseSeq)\n",
        "  print(reversed)"
      ],
      "metadata": {
        "id": "p_OU4YtVuv6a"
      },
      "execution_count": null,
      "outputs": []
    },
    {
      "cell_type": "code",
      "source": [
        "reverser(\"ACT\")"
      ],
      "metadata": {
        "colab": {
          "base_uri": "https://localhost:8080/"
        },
        "id": "FLxEoEDAzHrl",
        "outputId": "da3d80cc-4466-4489-9ca3-21ff31384720"
      },
      "execution_count": null,
      "outputs": [
        {
          "output_type": "stream",
          "name": "stdout",
          "text": [
            "['TCA']\n"
          ]
        }
      ]
    },
    {
      "cell_type": "markdown",
      "source": [
        "\n",
        "---\n"
      ],
      "metadata": {
        "id": "o97zi5CXz0vi"
      }
    },
    {
      "cell_type": "code",
      "source": [
        "def complement(seq):\n",
        "\n",
        "  seqList = []\n",
        "\n",
        "  for i in range(len(seq)):\n",
        "    if seq[i] == \"A\":\n",
        "      seqList.append(\"T\")\n",
        "    if seq[i] == \"T\":\n",
        "      seqList.append(\"A\")\n",
        "    if seq[i] == \"C\":\n",
        "      seqList.append(\"G\")\n",
        "    if seq[i] == \"G\":\n",
        "      seqList.append(\"C\")\n",
        "\n",
        "  print(seqList)"
      ],
      "metadata": {
        "id": "gaI1dChcz2O7"
      },
      "execution_count": null,
      "outputs": []
    },
    {
      "cell_type": "code",
      "source": [
        "complement(\"ACTG\")"
      ],
      "metadata": {
        "colab": {
          "base_uri": "https://localhost:8080/"
        },
        "id": "9KpJAgqR2Wy0",
        "outputId": "ec886cef-6823-400f-a76c-576f86023aea"
      },
      "execution_count": null,
      "outputs": [
        {
          "output_type": "stream",
          "name": "stdout",
          "text": [
            "['T', 'G', 'A', 'C']\n"
          ]
        }
      ]
    },
    {
      "cell_type": "markdown",
      "source": [
        "\n",
        "---\n"
      ],
      "metadata": {
        "id": "gl5g4hDP6oD8"
      }
    },
    {
      "cell_type": "code",
      "source": [
        "def reverseComp(seq):\n",
        "    reverseSeq = seq[::-1]\n",
        "    reversedSeqList = []\n",
        "\n",
        "    for i in range(len(seq)):\n",
        "      if reverseSeq[i] == \"A\":\n",
        "        reversedSeqList.append(\"T\")\n",
        "      if reverseSeq[i] == \"T\":\n",
        "        reversedSeqList.append(\"A\")\n",
        "      if reverseSeq[i] == \"C\":\n",
        "        reversedSeqList.append(\"G\")\n",
        "      if reverseSeq[i] == \"G\":\n",
        "        reversedSeqList.append(\"C\")\n",
        "\n",
        "    print(reversedSeqList)"
      ],
      "metadata": {
        "id": "3qwTJWoY6qAo"
      },
      "execution_count": null,
      "outputs": []
    },
    {
      "cell_type": "code",
      "source": [
        "reverseComp(\"ACTG\")"
      ],
      "metadata": {
        "colab": {
          "base_uri": "https://localhost:8080/"
        },
        "id": "5j2TO36i7Z1K",
        "outputId": "c3fd5af9-5529-4eef-d866-c2edf0f537f3"
      },
      "execution_count": null,
      "outputs": [
        {
          "output_type": "stream",
          "name": "stdout",
          "text": [
            "['C', 'A', 'G', 'T']\n"
          ]
        }
      ]
    },
    {
      "cell_type": "markdown",
      "source": [
        "\n",
        "\n",
        "---\n",
        "\n"
      ],
      "metadata": {
        "id": "gx7xxHZp9DUA"
      }
    },
    {
      "cell_type": "code",
      "source": [
        "def tSwitcher(seq):\n",
        "\n",
        "  seqList = []\n",
        "\n",
        "  for i in range(len(seq)):\n",
        "    if seq[i] == \"T\":\n",
        "      seqList.append(\"U\")\n",
        "    else:\n",
        "      seqList.append(seq[i])\n",
        "\n",
        "  print(seqList)"
      ],
      "metadata": {
        "id": "JrL6NkpH7meX"
      },
      "execution_count": null,
      "outputs": []
    },
    {
      "cell_type": "code",
      "source": [
        "tSwitcher(\"ACTG\")"
      ],
      "metadata": {
        "colab": {
          "base_uri": "https://localhost:8080/"
        },
        "id": "TCbRhnfR7534",
        "outputId": "6473b18a-22cc-40d0-93d8-e6b55546da87"
      },
      "execution_count": null,
      "outputs": [
        {
          "output_type": "stream",
          "name": "stdout",
          "text": [
            "['A', 'C', 'U', 'G']\n"
          ]
        }
      ]
    }
  ]
}